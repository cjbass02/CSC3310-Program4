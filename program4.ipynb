{
 "cells": [
  {
   "cell_type": "markdown",
   "metadata": {},
   "source": [
    "Christian Basso, Adam Zawistowski, Eleazar Miranda\n",
    "\n",
    "Program 4: Benchmarking Heaps\n",
    "\n",
    "CSC 3310\n",
    "\n",
    "March 29th, 2024"
   ]
  },
  {
   "cell_type": "markdown",
   "metadata": {},
   "source": [
    "# Program 4: Benchmarking Heaps"
   ]
  },
  {
   "cell_type": "markdown",
   "metadata": {},
   "source": [
    "## Summary"
   ]
  },
  {
   "cell_type": "markdown",
   "metadata": {},
   "source": [
    "## Benchmarking"
   ]
  },
  {
   "cell_type": "markdown",
   "metadata": {},
   "source": [
    "For each, you should try to benchmark the best- and worst-cases as well as random data.\n",
    "\n",
    "Make sure to have both sufficiently-large and sufficiently-many benchmarks. I would say up to list size of 100,000 (depending on the time complexity of some of the functions, idk how long they take yet and we dont want to be waiting forever for the benchmarks to finish).\n",
    "\n",
    "So do 10, 100, 1000, 10000, 100000"
   ]
  },
  {
   "cell_type": "markdown",
   "metadata": {},
   "source": [
    "## Results Table"
   ]
  },
  {
   "cell_type": "markdown",
   "metadata": {},
   "source": [
    "table for each function, showing its results for each case\n"
   ]
  },
  {
   "cell_type": "markdown",
   "metadata": {},
   "source": [
    "## Regressional Time Complexity Analysis"
   ]
  },
  {
   "cell_type": "markdown",
   "metadata": {},
   "source": [
    "an analysis using the regression techniques from the second homework to estimate the big-O time complexity for each\n",
    "heapq operation based on the benchmarking results"
   ]
  }
 ],
 "metadata": {
  "language_info": {
   "name": "python"
  }
 },
 "nbformat": 4,
 "nbformat_minor": 2
}
