{
 "cells": [
  {
   "cell_type": "markdown",
   "metadata": {},
   "source": [
    "Christian Basso, Adam Zawistowski, Eleazar Miranda\n",
    "\n",
    "Program 4: Benchmarking Heaps\n",
    "\n",
    "CSC 3310\n",
    "\n",
    "March 29th, 2024"
   ]
  },
  {
   "cell_type": "markdown",
   "metadata": {},
   "source": [
    "# Program 4: Benchmarking Heaps"
   ]
  },
  {
   "cell_type": "markdown",
   "metadata": {},
   "source": [
    "## Summary\n",
    "This program aims to benchmark various functions from the heapq libary. The \"heapify\", \"heappush\", \"heappop\", and \"heapreplace\" functions will be tested against various input arrays to record their results to expected results. Additionally, each function will be benchmarked with best, worst, and average case arrays with sizes 10, 100, 1000, and 100000 to asess their theoretical run time against their actual benchmarked run time. Each heapq opperation will be analyzed with a log-linear regression model to predict its Big O time complexity."
   ]
  },
  {
   "cell_type": "markdown",
   "metadata": {},
   "source": [
    "## Benchmarking"
   ]
  },
  {
   "cell_type": "markdown",
   "metadata": {},
   "source": [
    "*Note that heapq uses MIN heaps*\n",
    "\n",
    "**For heappush:**\n",
    "- The best case is when you add an element to a heap that is largrer than all other heap elements. This is because the element will be put at the end of the heap and will not need to be switched with any elements since it is garenteed to be larger than its parent. So, the best case heap will be made from numbers 1-99, and you will need to add the element \"100\" to the heap to test the best case.\n",
    "- The worst case is adding an element that is smaller than all other heap elements. This is because the element will be put at the end of the heap and will need to be switched with every other element \"in its path\" to the root (old smallest element). So, the worst case heap will be made from numbers 2-100, and you will need to add the element \"1\" to the heap to test the worst case.\n",
    "- The average case will be adding the element \"50\" to the heap of random numbers 1-100.\n",
    "\n",
    "**For heappop:**\n",
    "- All cases are the same since you are removing an element from the same spot no matter what the heap looks like. So, use the same benchmark heaps as the heappush function.\n",
    "\n",
    "**For heapify**\n",
    "- The best case will be an array that is already in heap form. So, use the heapify function on an array then use the heapify function on the same array.\n",
    "- The worst case would be an array in reversed sorted order (n to 1) since each of the elements near the end of the array would be small need to be moved up the heap and the heap would get a new root every itteration since each element in the input array is smaller than each of the previous elements.\n",
    "- The average case will be an array of random numbers 1-100.\n",
    "\n",
    "**For heapreplace**\n",
    "- Since heapreplace is just popping then pushing an element, the best, worst, and average case will be a combination of both pop and push. However, since heappop cases are all the same, the best, worst, and average case for heapreplace will be the same as heappush.\n",
    "\n",
    "Each of these cases will be made with a seperate function."
   ]
  },
  {
   "cell_type": "markdown",
   "metadata": {},
   "source": [
    "### Functions for making benchmarking lists"
   ]
  },
  {
   "cell_type": "code",
   "execution_count": 51,
   "metadata": {},
   "outputs": [],
   "source": [
    "import heapq\n",
    "import pandas as pd"
   ]
  },
  {
   "cell_type": "code",
   "execution_count": 52,
   "metadata": {},
   "outputs": [],
   "source": [
    "import random\n",
    "import random\n",
    "def random_list(n, min_val, max_val):\n",
    "    return random.choices(range(min_val, max_val+1), k=n)\n",
    "    "
   ]
  },
  {
   "cell_type": "code",
   "execution_count": 53,
   "metadata": {},
   "outputs": [],
   "source": [
    "def create_push_pop_list(case, n):\n",
    "    if case == \"best\":\n",
    "        arr = random_list(n, 1, 99)\n",
    "        heapq.heapify(arr)\n",
    "        return arr\n",
    "    elif case == \"worst\":\n",
    "        arr = random_list(n, 2, 100)\n",
    "        heapq.heapify(arr)\n",
    "        return arr\n",
    "    elif case == \"avg\" or case == \"average\":\n",
    "            arr = random_list(n, 1, 100)\n",
    "            heapq.heapify(arr)\n",
    "            return arr\n",
    "    else:\n",
    "        print(\"Not valid, youre dumb\")\n",
    "        return -1"
   ]
  },
  {
   "cell_type": "code",
   "execution_count": 54,
   "metadata": {},
   "outputs": [],
   "source": [
    "def create_heapify_list(case, n):\n",
    "    if case == \"best\":\n",
    "        arr = random_list(n, 1, 100)\n",
    "        heapq.heapify(arr)\n",
    "        return arr\n",
    "    elif case == \"worst\":\n",
    "        arr = random_list(n, 1, 100)\n",
    "        arr.sort(reverse = True)\n",
    "        return arr\n",
    "    elif case == \"avg\" or case == \"average\":\n",
    "        return random_list(n, 1, 100)\n",
    "    else:\n",
    "        print(\"Not valid, youre dumb\")\n",
    "        return -1"
   ]
  },
  {
   "cell_type": "markdown",
   "metadata": {},
   "source": [
    "### Creating Benchmarking Lists"
   ]
  },
  {
   "cell_type": "markdown",
   "metadata": {},
   "source": [
    "#### Push"
   ]
  },
  {
   "cell_type": "code",
   "execution_count": 55,
   "metadata": {},
   "outputs": [],
   "source": [
    "push_worst_10 = create_push_pop_list(\"worst\", 10)\n",
    "push_worst_100 = create_push_pop_list(\"worst\", 100)\n",
    "push_worst_1000 = create_push_pop_list(\"worst\", 1000)\n",
    "push_worst_10000 = create_push_pop_list(\"worst\", 10000)\n",
    "\n",
    "push_best_10 = create_push_pop_list(\"best\", 10)\n",
    "push_best_100 = create_push_pop_list(\"best\", 100)\n",
    "push_best_1000 = create_push_pop_list(\"best\", 1000)\n",
    "push_best_10000 = create_push_pop_list(\"best\", 10000)\n",
    "\n",
    "push_avg_10 = create_push_pop_list(\"avg\", 10)\n",
    "push_avg_100 = create_push_pop_list(\"avg\", 100)\n",
    "push_avg_1000 = create_push_pop_list(\"avg\", 1000)\n",
    "push_avg_10000 = create_push_pop_list(\"avg\", 10000)"
   ]
  },
  {
   "cell_type": "markdown",
   "metadata": {},
   "source": [
    "#### Pop"
   ]
  },
  {
   "cell_type": "code",
   "execution_count": 56,
   "metadata": {},
   "outputs": [],
   "source": [
    "pop_worst_10 = create_push_pop_list(\"worst\", 10)\n",
    "pop_worst_100 = create_push_pop_list(\"worst\", 100)\n",
    "pop_worst_1000 = create_push_pop_list(\"worst\", 1000)\n",
    "pop_worst_10000 = create_push_pop_list(\"worst\", 10000)\n",
    "\n",
    "pop_best_10 = create_push_pop_list(\"best\", 10)\n",
    "pop_best_100 = create_push_pop_list(\"best\", 100)\n",
    "pop_best_1000 = create_push_pop_list(\"best\", 1000)\n",
    "pop_best_10000 = create_push_pop_list(\"best\", 10000)\n",
    "\n",
    "pop_avg_10 = create_push_pop_list(\"avg\", 10)\n",
    "pop_avg_100 = create_push_pop_list(\"avg\", 100)\n",
    "pop_avg_1000 = create_push_pop_list(\"avg\", 1000)\n",
    "pop_avg_10000 = create_push_pop_list(\"avg\", 10000)"
   ]
  },
  {
   "cell_type": "markdown",
   "metadata": {},
   "source": [
    "#### Heapify"
   ]
  },
  {
   "cell_type": "code",
   "execution_count": 57,
   "metadata": {},
   "outputs": [],
   "source": [
    "heapify_worst_10 = create_heapify_list(\"worst\", 10)\n",
    "heapify_worst_100 = create_heapify_list(\"worst\", 100)\n",
    "heapify_worst_1000 = create_heapify_list(\"worst\", 1000)\n",
    "heapify_worst_10000 = create_heapify_list(\"worst\", 10000)\n",
    "\n",
    "heapify_best_10 = create_heapify_list(\"best\", 10)\n",
    "heapify_best_100 = create_heapify_list(\"best\", 100)\n",
    "heapify_best_1000 = create_heapify_list(\"best\", 1000)\n",
    "heapify_best_10000 = create_heapify_list(\"best\", 10000)\n",
    "\n",
    "heapify_avg_10 = create_heapify_list(\"avg\", 10)\n",
    "heapify_avg_100 = create_heapify_list(\"avg\", 100)\n",
    "heapify_avg_1000 = create_heapify_list(\"avg\", 1000)\n",
    "heapify_avg_10000 = create_heapify_list(\"avg\", 10000)"
   ]
  },
  {
   "cell_type": "markdown",
   "metadata": {},
   "source": [
    "#### Heapreplace"
   ]
  },
  {
   "cell_type": "code",
   "execution_count": 58,
   "metadata": {},
   "outputs": [],
   "source": [
    "hr_worst_10 = create_push_pop_list(\"worst\", 10)\n",
    "hr_worst_100 = create_push_pop_list(\"worst\", 100)\n",
    "hr_worst_1000 = create_push_pop_list(\"worst\", 1000)\n",
    "pop_worst_10000 = create_push_pop_list(\"worst\", 10000)\n",
    "\n",
    "hr_best_10 = create_push_pop_list(\"best\", 10)\n",
    "hr_best_100 = create_push_pop_list(\"best\", 100)\n",
    "hr_best_1000 = create_push_pop_list(\"best\", 1000)\n",
    "hr_best_10000 = create_push_pop_list(\"best\", 10000)\n",
    "\n",
    "hr_avg_10 = create_push_pop_list(\"avg\", 10)\n",
    "hr_avg_100 = create_push_pop_list(\"avg\", 100)\n",
    "hr_avg_1000 = create_push_pop_list(\"avg\", 1000)\n",
    "hr_avg_10000 = create_push_pop_list(\"avg\", 10000)"
   ]
  },
  {
   "cell_type": "code",
   "execution_count": null,
   "metadata": {},
   "outputs": [],
   "source": [
    "pop_worst_10000 = create_push_pop_list(\"worst\", 10000)\n",
    "\n",
    "hr_best_10 = create_push_pop_list(\"best\", 10)\n",
    "hr_best_100 = create_push_pop_list(\"best\", 100)\n",
    "hr_best_1000 = create_push_pop_list(\"best\", 1000)\n",
    "hr_best_10000 = create_push_pop_list(\"best\", 10000)\n",
    "\n",
    "hr_avg_10 = create_push_pop_list(\"avg\", 10)\n",
    "hr_avg_100 = create_push_pop_list(\"avg\", 100)\n",
    "hr_avg_1000 = create_push_pop_list(\"avg\", 1000)\n",
    "hr_avg_10000 = create_push_pop_list(\"avg\", 10000)"
   ]
  },
  {
   "cell_type": "markdown",
   "metadata": {},
   "source": [
    "### Benchmark Function"
   ]
  },
  {
   "cell_type": "code",
   "execution_count": 59,
   "metadata": {},
   "outputs": [],
   "source": [
    "import copy\n",
    "import time\n",
    "def benchmark(algorithm, arr):\n",
    "    copy_arr = copy.copy(arr)\n",
    "    start_time = time.perf_counter()\n",
    "    algorithm(copy_arr)\n",
    "    end_time = time.perf_counter()\n",
    "    return end_time - start_time"
   ]
  },
  {
   "cell_type": "code",
   "execution_count": 60,
   "metadata": {},
   "outputs": [],
   "source": [
    "def benchmark_push(algorithm, heap, input):\n",
    "    copy_heap = copy.copy(heap)\n",
    "    start_time = time.perf_counter()\n",
    "    algorithm(copy_heap, input)\n",
    "    end_time = time.perf_counter()\n",
    "    return end_time - start_time"
   ]
  },
  {
   "cell_type": "markdown",
   "metadata": {},
   "source": [
    "### Performing Benchmarking"
   ]
  },
  {
   "cell_type": "markdown",
   "metadata": {},
   "source": [
    "#### Push"
   ]
  },
  {
   "cell_type": "code",
   "execution_count": 62,
   "metadata": {},
   "outputs": [
    {
     "name": "stdout",
     "output_type": "stream",
     "text": [
      "Push worst case:\n",
      "10 Elements:  6.00004568696022e-07\n",
      "100 Elements:  1.500011421740055e-06\n",
      "1000 Elements:  1.500011421740055e-06\n",
      "10000 Elements:  3.0999653972685337e-06\n",
      "\n",
      "Push best case:\n",
      "10 Elements:  4.00003045797348e-07\n",
      "100 Elements:  5.00003807246685e-07\n",
      "1000 Elements:  8.00006091594696e-07\n",
      "10000 Elements:  8.00006091594696e-07\n",
      "\n",
      "Push avg case:\n",
      "10 Elements:  2.00001522898674e-07\n",
      "100 Elements:  1.100008375942707e-06\n",
      "1000 Elements:  1.00000761449337e-06\n",
      "10000 Elements:  5.00003807246685e-07\n",
      "\n"
     ]
    }
   ],
   "source": [
    "print(\"Push worst case:\")\n",
    "print(\"10 Elements: \", benchmark_push(heapq.heappush, push_worst_10, 1))\n",
    "print(\"100 Elements: \", benchmark_push(heapq.heappush, push_worst_100, 1))\n",
    "print(\"1000 Elements: \", benchmark_push(heapq.heappush, push_worst_1000, 1))\n",
    "print(\"10000 Elements: \", benchmark_push(heapq.heappush, push_worst_10000, 1))\n",
    "print()\n",
    "print(\"Push best case:\")\n",
    "print(\"10 Elements: \", benchmark_push(heapq.heappush, push_best_10, 100))\n",
    "print(\"100 Elements: \", benchmark_push(heapq.heappush, push_best_100, 100))\n",
    "print(\"1000 Elements: \", benchmark_push(heapq.heappush, push_best_1000, 100))\n",
    "print(\"10000 Elements: \", benchmark_push(heapq.heappush, push_best_10000, 100))\n",
    "print()\n",
    "print(\"Push avg case:\")\n",
    "print(\"10 Elements: \", benchmark_push(heapq.heappush, push_avg_10,))\n",
    "print(\"100 Elements: \", benchmark_push(heapq.heappush, push_avg_100, 50))\n",
    "print(\"1000 Elements: \", benchmark_push(heapq.heappush, push_avg_1000, 50))\n",
    "print(\"10000 Elements: \", benchmark_push(heapq.heappush, push_avg_10000, 50))\n",
    "print()"
   ]
  },
  {
   "cell_type": "code",
   "execution_count": null,
   "metadata": {},
   "outputs": [],
   "source": []
  },
  {
   "cell_type": "markdown",
   "metadata": {},
   "source": [
    "## Results Table"
   ]
  },
  {
   "cell_type": "markdown",
   "metadata": {},
   "source": [
    "table for each function, showing its results for each case\n"
   ]
  },
  {
   "cell_type": "markdown",
   "metadata": {},
   "source": [
    "## Regressional Time Complexity Analysis"
   ]
  },
  {
   "cell_type": "markdown",
   "metadata": {},
   "source": [
    "an analysis using the regression techniques from the second homework to estimate the big-O time complexity for each\n",
    "heapq operation based on the benchmarking results"
   ]
  },
  {
   "cell_type": "code",
   "execution_count": null,
   "metadata": {},
   "outputs": [],
   "source": [
    "import numpy as np\n",
    "from scipy.stats import linregress\n",
    "def lineReg(listsizes, runtimes):\n",
    "    m, b, -, -, - = linregress(np.log(listsizes),np.log(runtimes))\n",
    "    print('Slope for list size')"
   ]
  },
  {
   "cell_type": "code",
   "execution_count": null,
   "metadata": {},
   "outputs": [],
   "source": []
  }
 ],
 "metadata": {
  "kernelspec": {
   "display_name": "Python 3",
   "language": "python",
   "name": "python3"
  },
  "language_info": {
   "codemirror_mode": {
    "name": "ipython",
    "version": 3
   },
   "file_extension": ".py",
   "mimetype": "text/x-python",
   "name": "python",
   "nbconvert_exporter": "python",
   "pygments_lexer": "ipython3",
   "version": "3.11.8"
  }
 },
 "nbformat": 4,
 "nbformat_minor": 2
}
