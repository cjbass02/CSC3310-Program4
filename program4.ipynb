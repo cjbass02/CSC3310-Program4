{
 "cells": [
  {
   "cell_type": "markdown",
   "metadata": {},
   "source": [
    "Christian Basso, Adam Zawistowski, Eleazar Miranda\n",
    "\n",
    "Program 4: Benchmarking Heaps\n",
    "\n",
    "CSC 3310\n",
    "\n",
    "March 29th, 2024"
   ]
  },
  {
   "cell_type": "markdown",
   "metadata": {},
   "source": [
    "# Program 4: Benchmarking Heaps"
   ]
  },
  {
   "cell_type": "markdown",
   "metadata": {},
   "source": [
    "## Summary\n",
    "This program aims to benchmark various functions from the heapq libary. The \"heapify\", \"heappush\", \"heappop\", and \"heapreplace\" functions will be tested against various input arrays to record their results to expected results. Additionally, each function will be benchmarked with best, worst, and average case arrays with sizes 10, 100, 1000, and 100000 to asess their theoretical run time against their actual benchmarked run time. Each heapq opperation will be analyzed with a log-linear regression model to predict its Big O time complexity."
   ]
  },
  {
   "cell_type": "markdown",
   "metadata": {},
   "source": [
    "## Benchmarking"
   ]
  },
  {
   "cell_type": "code",
   "execution_count": 3,
   "metadata": {},
   "outputs": [],
   "source": [
    "import heapq\n",
    "import pandas as pd"
   ]
  },
  {
   "cell_type": "code",
   "execution_count": 7,
   "metadata": {},
   "outputs": [],
   "source": [
    "heap = [1,4,6,4,3,12,24,55,46,7,43,3]\n",
    "heapq.heapify(heap)"
   ]
  },
  {
   "cell_type": "code",
   "execution_count": 8,
   "metadata": {},
   "outputs": [
    {
     "name": "stdout",
     "output_type": "stream",
     "text": [
      "[1, 3, 3, 4, 4, 6, 24, 55, 46, 7, 43, 12]\n"
     ]
    }
   ],
   "source": [
    "print(heap)"
   ]
  },
  {
   "cell_type": "markdown",
   "metadata": {},
   "source": [
    "**For heappush:**\n",
    "- The best case is when you add an element to a heap that is smaller than all other heap elements. This is because the element will be put at the end of the heap and will not need to be switched with any elements. So, the best case array will be made from numbers 2-100, and you will need to add the element \"1\" to the heap to test the best case.\n",
    "- The worst case is adding an element that is larger than all other heap elements. This is because the element will be put at the end of the heap and will need to be switched with every other element \"in its path\" to the root. So, the worst case array will be made from numbers 1-99, and you will need to add the element \"100\" to the heap to test the worst case.\n",
    "- The average case will be adding a random element to the heap of numbers 1-100.\n",
    "\n",
    "**For heappop:**\n",
    "- "
   ]
  },
  {
   "cell_type": "code",
   "execution_count": null,
   "metadata": {},
   "outputs": [],
   "source": [
    "def create_list(case, n):\n",
    "    if case is \"worst\":\n",
    "        "
   ]
  },
  {
   "cell_type": "markdown",
   "metadata": {},
   "source": [
    "For each, you should try to benchmark the best- and worst-cases as well as random data.\n",
    "\n",
    "Make sure to have both sufficiently-large and sufficiently-many benchmarks. I would say up to list size of 100,000 (depending on the time complexity of some of the functions, idk how long they take yet and we dont want to be waiting forever for the benchmarks to finish).\n",
    "\n",
    "So do 10, 100, 1000, 10000"
   ]
  },
  {
   "cell_type": "markdown",
   "metadata": {},
   "source": [
    "## Results Table"
   ]
  },
  {
   "cell_type": "markdown",
   "metadata": {},
   "source": [
    "table for each function, showing its results for each case\n"
   ]
  },
  {
   "cell_type": "markdown",
   "metadata": {},
   "source": [
    "## Regressional Time Complexity Analysis"
   ]
  },
  {
   "cell_type": "markdown",
   "metadata": {},
   "source": [
    "an analysis using the regression techniques from the second homework to estimate the big-O time complexity for each\n",
    "heapq operation based on the benchmarking results"
   ]
  }
 ],
 "metadata": {
  "kernelspec": {
   "display_name": "Python 3",
   "language": "python",
   "name": "python3"
  },
  "language_info": {
   "codemirror_mode": {
    "name": "ipython",
    "version": 3
   },
   "file_extension": ".py",
   "mimetype": "text/x-python",
   "name": "python",
   "nbconvert_exporter": "python",
   "pygments_lexer": "ipython3",
   "version": "3.11.8"
  }
 },
 "nbformat": 4,
 "nbformat_minor": 2
}
